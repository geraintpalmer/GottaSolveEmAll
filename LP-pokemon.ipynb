{
 "cells": [
  {
   "cell_type": "code",
   "execution_count": 335,
   "metadata": {
    "collapsed": true
   },
   "outputs": [],
   "source": [
    "import numpy as np\n",
    "import pulp\n",
    "import pandas as pd"
   ]
  },
  {
   "cell_type": "code",
   "execution_count": 336,
   "metadata": {
    "collapsed": true
   },
   "outputs": [],
   "source": [
    "starters_n = ['Bulbasaur', 'Ivysaur', 'Venusaur', 'Charmander', 'Charmeleon', 'Charizard', 'Squirtle', 'Wartortle', 'Blastoise', 'Chikorita', 'Bayleef', 'Meganium', 'Cyndaquil', 'Quilava', 'Typhlosion', 'Totodile', 'Croconaw', 'Feraligatr', 'Treecko', 'Grovyle', 'Sceptile', 'Torchic', 'Combusken', 'Blaziken', 'Mudkip', 'Marshtomp', 'Swampert', 'Turtwig', 'Grotle', 'Torterra', 'Chimchar', 'Monferno', 'Infernape', 'Piplup', 'Prinplup', 'Empoleon', 'Snivy', 'Servine', 'Serperior', 'Tepig', 'Pignite', 'Emboar', 'Oshawott', 'Dewott', 'Samurott', 'Chespin', 'Quilladin', 'Chesnaught', 'Fennekin', 'Braixen', 'Delphox', 'Froakie', 'Frogadier', 'Greninja', 'Rowlet', 'Dartrix', 'Decidueye', 'Litten', 'Torracat', 'Incineroar', 'Popplio', 'Brionne', 'Primarina']\n",
    "pseudolegendaries_n = ['Dratini', 'Dragonair', 'Dragonite', 'Larvitar', 'Pupitar', 'Tyranitar', 'Bagon', 'Shelgon', 'Salamence', 'Beldum', 'Metang', 'Metagross', 'Gible', 'Gabite', 'Garchomp', 'Deino', 'Zweilous', 'Hydreigon', 'Goomy', 'Sliggoo', 'Goodra', 'Jangmo-o', 'Hakamo-o', 'Kommo-o']\n",
    "legendaries_n = ['Articuno', 'Zapdos', 'Moltres', 'Mewtwo', 'Mew', 'Raikou', 'Entei', 'Suicune', 'Lugia', 'Celebi', 'Regirock', 'Regice', 'Registeel', 'Latias', 'Latios', 'Kyogre', 'Groudon', 'Rayquaza', 'Jirachi', 'Deoxys', 'Uxie', 'Mesprit', 'Azelf', 'Dialga', 'Palkia', 'Giratina', 'Cresselia', 'Darkrai', 'Manaphy', 'Heatran', 'Regigigas', 'Arceus', 'Victini', 'Cobalion', 'Terrakion', 'Virizion', 'Keldeo', 'Tornadus', 'Thundurus', 'Landorus', 'Reshiram', 'Zekrom', 'Kyurem', 'Genesect', 'Xerneas', 'Yveltal', 'Zygarde', 'Diancie', 'Volcanion', 'Solgaleo', 'Lunala', 'Marshadow', 'Zeraora', 'Cosmog', 'Cosmoem', 'Necrozma', 'Silvally', 'Magearna']\n",
    "ultrabeasts_n = ['Nihilego', 'Buzzwole', 'Pheromosa', 'Xurkitree', 'Celesteela', 'Kartana', 'Guzzlord', 'Poipole', 'Naganadel', 'Stakataka', 'Blacephalon']"
   ]
  },
  {
   "cell_type": "code",
   "execution_count": 337,
   "metadata": {
    "collapsed": true
   },
   "outputs": [],
   "source": [
    "types_order = ['Normal', 'Fire', 'Water', 'Electric', 'Grass', 'Ice', 'Fighting', 'Poison', 'Ground', 'Flying', 'Psychic', 'Bug', 'Rock', 'Ghost', 'Dragon', 'Dark', 'Steel', 'Fairy']"
   ]
  },
  {
   "cell_type": "code",
   "execution_count": 338,
   "metadata": {
    "collapsed": true
   },
   "outputs": [],
   "source": [
    "weaknesses = {\n",
    "    'Normal': [1, 1, 1, 1, 1, 1, 2, 1, 1, 1, 1, 1, 1, 0, 1, 1, 1, 1],\n",
    "    'Fire': [1, 0.5, 2, 1, 0.5, 0.5, 1, 1, 2, 1, 1, 0.5, 2, 1, 1, 1, 0.5, 0.5],\n",
    "    'Water': [1, 0.5, 0.5, 2, 2, 0.5, 1, 1, 1, 1, 1, 1, 1, 1, 1, 1, 0.5, 1],\n",
    "    'Electric': [1, 1, 1, 0.5, 1, 1, 1, 1, 2, 0.5, 1, 1, 1, 1, 1, 1, 0.5, 1],\n",
    "    'Grass': [1, 2, 0.5, 0.5, 0.5, 2, 1, 2, 0.5, 2, 1, 2, 1, 1, 1, 1, 1, 1],\n",
    "    'Ice': [1, 2, 1, 1, 1, 0.5, 2, 1, 1, 1, 1, 1, 2, 1, 1, 1, 2, 1],\n",
    "    'Fighting': [1, 1, 1, 1, 1, 1, 1, 1, 1, 2, 2, 0.5, 0.5, 1, 1, 0.5, 1, 2],\n",
    "    'Poison': [1, 1, 1, 1, 0.5, 1, 0.5, 0.5, 2, 1, 2, 0.5, 1, 1, 1, 1, 1, 0.5],\n",
    "    'Ground': [1, 1, 2, 0, 2, 2, 1, 0.5, 1, 1, 1, 1, 0.5, 1, 1, 1, 1, 1],\n",
    "    'Flying': [1, 1, 1, 2, 0.5, 2, 0.5, 1, 0, 1, 1, 0.5, 2, 1, 1, 1, 1, 1],\n",
    "    'Psychic': [1, 1, 1, 1, 1, 1, 0.5, 1, 1, 1, 0.5, 2, 1, 2, 1, 2, 1, 1],\n",
    "    'Bug': [1, 2, 1, 1, 0.5, 1, 0.5, 1, 0.5, 2, 1, 1, 2, 1, 1, 1, 1, 1],\n",
    "    'Rock': [0.5, 0.5, 2, 1, 2, 1, 2, 0.5, 2, 0.5, 1, 1, 1, 1, 1, 1, 2, 1],\n",
    "    'Ghost': [0, 1, 1, 1, 1, 1, 0, 0.5, 1, 1, 1, 0.5, 1, 2, 1, 2, 1, 1],\n",
    "    'Dragon': [1, 0.5, 0.5, 0.5, 0.5, 2, 1, 1, 1, 1, 1, 1, 1, 1, 2, 1, 1, 2],\n",
    "    'Dark': [1, 1, 1, 1, 1, 1, 2, 1, 1, 1, 0, 2, 1, 0.5, 1, 0.5, 1, 2],\n",
    "    'Steel': [0.5, 2, 1, 1, 0.5, 0.5, 2, 0, 2, 0.5, 0.5, 0.5, 0.5, 1, 0.5, 1, 0.5, 0.5],\n",
    "    'Fairy': [1, 1, 1, 1, 1, 1, 0.5, 2, 1, 1, 1, 0.5, 1, 1, 0, 0.5, 2, 1]\n",
    "}"
   ]
  },
  {
   "cell_type": "code",
   "execution_count": 339,
   "metadata": {
    "collapsed": true
   },
   "outputs": [],
   "source": [
    "master = pd.read_csv('pokemon_master_data.csv', encoding='latin-1')\n",
    "del master['Unnamed: 0']"
   ]
  },
  {
   "cell_type": "code",
   "execution_count": 340,
   "metadata": {
    "collapsed": true
   },
   "outputs": [],
   "source": [
    "w_arrays = []\n",
    "r_arrays = []\n",
    "for pkmn in range(len(master)):\n",
    "    if str(master.loc[pkmn]['Type2']) != 'nan':\n",
    "        w_array_1 = np.array(weaknesses[master.loc[pkmn]['Type1']])\n",
    "        w_array_2 = np.array(weaknesses[master.loc[pkmn]['Type2']])\n",
    "        w_array = w_array_1 * w_array_2\n",
    "    else:\n",
    "        w_array = np.array(weaknesses[master.loc[pkmn]['Type1']])\n",
    "    r_array = [1 if r <= 0.5 else 0 for r in w_array]\n",
    "    w_arrays.append(w_array)\n",
    "    r_arrays.append(r_array)\n",
    "master['Weaknesses'] = w_arrays\n",
    "master['Resistances'] = r_arrays"
   ]
  },
  {
   "cell_type": "code",
   "execution_count": 341,
   "metadata": {},
   "outputs": [],
   "source": [
    "starters = [master[master['Name']==name].index[0] for name in starters_n]\n",
    "pseudolegendaries = [master[master['Name']==name].index[0] for name in pseudolegendaries_n]\n",
    "legendaries = [master[master['Name']==name].index[0] for name in legendaries_n]\n",
    "ultrabeasts = [master[master['Name']==name].index[0] for name in ultrabeasts_n]"
   ]
  },
  {
   "cell_type": "code",
   "execution_count": 342,
   "metadata": {
    "collapsed": true
   },
   "outputs": [],
   "source": [
    "master['TotalStats'] = master['Attack'] + master['Special Attack'] + master['Defence'] + master['Special Defence'] + master['Speed'] + master['HP']\n",
    "master['TotalAttack'] = master['Attack'] + master['Special Attack']\n",
    "master['TotalDefence'] = master['Defence'] + master['Special Defence'] + master['HP']"
   ]
  },
  {
   "cell_type": "code",
   "execution_count": 343,
   "metadata": {
    "collapsed": true
   },
   "outputs": [],
   "source": [
    "def solve_linear_program(objective_stat='TotalStats', max_pkmn_num=792, num_starters=1, num_pseudos=0, num_legendaries=0, num_ultrabeasts=0):\n",
    "    prob = pulp.LpProblem(\"PerfectPokemonTeam\", pulp.LpMaximize)\n",
    "    x = pulp.LpVariable.dicts(\"x\", range(max_pkmn_num), cat=pulp.LpBinary)\n",
    "    \n",
    "    objective_function = sum(master.loc[pkmn, objective_stat] * x[pkmn] for pkmn in range(max_pkmn_num))\n",
    "    prob += objective_function\n",
    "    \n",
    "    prob += sum([x[pkmn] for pkmn in range(max_pkmn_num)]) == 6\n",
    "    prob += sum([x[pkmn] for pkmn in [i for i in starters if i < max_pkmn_num]]) <= num_starters\n",
    "    prob += sum([x[pkmn] for pkmn in [i for i in pseudolegendaries if i < max_pkmn_num]]) == num_pseudos\n",
    "    prob += sum([x[pkmn] for pkmn in [i for i in legendaries if i < max_pkmn_num]]) == num_legendaries\n",
    "    prob += sum([x[pkmn] for pkmn in [i for i in ultrabeasts if i < max_pkmn_num]]) == num_ultrabeasts\n",
    "    \n",
    "    for tp in range(18):\n",
    "        prob += sum([master.loc[pkmn, 'Resistances'][tp] * x[pkmn] for pkmn in range(max_pkmn_num)]) >= 1\n",
    "    \n",
    "    prob.solve()\n",
    "    \n",
    "    return [master.loc[i, 'Name'] for i in range(max_pkmn_num) if x[i].value() == 1]"
   ]
  },
  {
   "cell_type": "markdown",
   "metadata": {},
   "source": [
    "# Solve for all generations"
   ]
  },
  {
   "cell_type": "code",
   "execution_count": 344,
   "metadata": {},
   "outputs": [
    {
     "data": {
      "text/plain": [
       "['Arcanine', 'Slaking', 'Magnezone', 'Archeops', 'Haxorus', 'Florges']"
      ]
     },
     "execution_count": 344,
     "metadata": {},
     "output_type": "execute_result"
    }
   ],
   "source": [
    "solve_linear_program('TotalStats')"
   ]
  },
  {
   "cell_type": "code",
   "execution_count": 346,
   "metadata": {},
   "outputs": [
    {
     "data": {
      "text/plain": [
       "['Exeggutor', 'Flareon', 'Slaking', 'Honchkrow', 'Lucario', 'Archeops']"
      ]
     },
     "execution_count": 346,
     "metadata": {},
     "output_type": "execute_result"
    }
   ],
   "source": [
    "solve_linear_program('TotalAttack')"
   ]
  },
  {
   "cell_type": "code",
   "execution_count": 347,
   "metadata": {},
   "outputs": [
    {
     "data": {
      "text/plain": [
       "['Shuckle', 'Blissey', 'Bastiodon', 'Chesnaught', 'Aegislash', 'Carbink']"
      ]
     },
     "execution_count": 347,
     "metadata": {},
     "output_type": "execute_result"
    }
   ],
   "source": [
    "solve_linear_program('TotalDefence')"
   ]
  },
  {
   "cell_type": "code",
   "execution_count": 348,
   "metadata": {},
   "outputs": [
    {
     "data": {
      "text/plain": [
       "['Dugtrio', 'Electrode', 'Ninjask', 'Accelgor', 'Durant', 'Greninja']"
      ]
     },
     "execution_count": 348,
     "metadata": {},
     "output_type": "execute_result"
    }
   ],
   "source": [
    "solve_linear_program('Speed')"
   ]
  },
  {
   "cell_type": "markdown",
   "metadata": {},
   "source": [
    "# Solve for gen 1"
   ]
  },
  {
   "cell_type": "code",
   "execution_count": 349,
   "metadata": {},
   "outputs": [
    {
     "data": {
      "text/plain": [
       "['Arcanine', 'Poliwrath', 'Magneton', 'Gyarados', 'Lapras', 'Snorlax']"
      ]
     },
     "execution_count": 349,
     "metadata": {},
     "output_type": "execute_result"
    }
   ],
   "source": [
    "solve_linear_program('TotalStats', 148)"
   ]
  },
  {
   "cell_type": "code",
   "execution_count": 350,
   "metadata": {},
   "outputs": [
    {
     "data": {
      "text/plain": [
       "['Arcanine', 'Machamp', 'Magneton', 'Exeggutor', 'Flareon', 'Snorlax']"
      ]
     },
     "execution_count": 350,
     "metadata": {},
     "output_type": "execute_result"
    }
   ],
   "source": [
    "solve_linear_program('TotalAttack', 148)"
   ]
  },
  {
   "cell_type": "code",
   "execution_count": 351,
   "metadata": {},
   "outputs": [
    {
     "data": {
      "text/plain": [
       "['Poliwrath', 'Magneton', 'Chansey', 'Gyarados', 'Lapras', 'Snorlax']"
      ]
     },
     "execution_count": 351,
     "metadata": {},
     "output_type": "execute_result"
    }
   ],
   "source": [
    "solve_linear_program('TotalDefence', 148)"
   ]
  },
  {
   "cell_type": "code",
   "execution_count": 352,
   "metadata": {},
   "outputs": [
    {
     "data": {
      "text/plain": [
       "['Persian', 'Primeape', 'Magneton', 'Electrode', 'Starmie', 'Aerodactyl']"
      ]
     },
     "execution_count": 352,
     "metadata": {},
     "output_type": "execute_result"
    }
   ],
   "source": [
    "solve_linear_program('Speed', 148)"
   ]
  },
  {
   "cell_type": "code",
   "execution_count": null,
   "metadata": {
    "collapsed": true
   },
   "outputs": [],
   "source": []
  }
 ],
 "metadata": {
  "kernelspec": {
   "display_name": "Python 3",
   "language": "python",
   "name": "python3"
  },
  "language_info": {
   "codemirror_mode": {
    "name": "ipython",
    "version": 3
   },
   "file_extension": ".py",
   "mimetype": "text/x-python",
   "name": "python",
   "nbconvert_exporter": "python",
   "pygments_lexer": "ipython3",
   "version": "3.6.1"
  }
 },
 "nbformat": 4,
 "nbformat_minor": 2
}
