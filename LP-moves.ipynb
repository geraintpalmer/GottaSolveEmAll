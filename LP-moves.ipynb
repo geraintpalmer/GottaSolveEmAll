{
 "cells": [
  {
   "cell_type": "code",
   "execution_count": 15,
   "metadata": {
    "collapsed": true
   },
   "outputs": [],
   "source": [
    "import pandas as pd\n",
    "import numpy as np\n",
    "import pulp"
   ]
  },
  {
   "cell_type": "markdown",
   "metadata": {},
   "source": [
    "# Put in place all data"
   ]
  },
  {
   "cell_type": "code",
   "execution_count": 16,
   "metadata": {
    "collapsed": true
   },
   "outputs": [],
   "source": [
    "master = pd.read_csv('pokemon_master_data.csv', encoding='latin-1')\n",
    "del master['Unnamed: 0']"
   ]
  },
  {
   "cell_type": "code",
   "execution_count": 17,
   "metadata": {
    "collapsed": true
   },
   "outputs": [],
   "source": [
    "damaging_moves = pd.read_csv('damaging_moves.csv')\n",
    "del damaging_moves['Unnamed: 0']"
   ]
  },
  {
   "cell_type": "code",
   "execution_count": 18,
   "metadata": {
    "collapsed": true
   },
   "outputs": [],
   "source": [
    "damaging_moves['Type'] = damaging_moves['Type'].apply(lambda x: x.capitalize())\n",
    "damaging_moves['Expected Damage'] = damaging_moves['Damage'] * damaging_moves['Acc'] / 100"
   ]
  },
  {
   "cell_type": "code",
   "execution_count": 19,
   "metadata": {
    "collapsed": true
   },
   "outputs": [],
   "source": [
    "with open ('moves_matrix.csv') as f:\n",
    "    moves_matrix = f.read()\n",
    "moves_matrix = [int(m) for m in moves_matrix.split(',')]\n",
    "moves_matrix = [moves_matrix[x:x+len(master)] for x in range(0, len(moves_matrix), len(damaging_moves))]"
   ]
  },
  {
   "cell_type": "code",
   "execution_count": 20,
   "metadata": {
    "collapsed": true
   },
   "outputs": [],
   "source": [
    "types_order = ['Normal', 'Fire', 'Water', 'Electric', 'Grass', 'Ice', 'Fighting', 'Poison', 'Ground', 'Flying', 'Psychic', 'Bug', 'Rock', 'Ghost', 'Dragon', 'Dark', 'Steel', 'Fairy']"
   ]
  },
  {
   "cell_type": "code",
   "execution_count": 21,
   "metadata": {
    "collapsed": true
   },
   "outputs": [],
   "source": [
    "for t in types_order:\n",
    "    damaging_moves[t] = (damaging_moves['Type'] == t).astype('int')"
   ]
  },
  {
   "cell_type": "code",
   "execution_count": 22,
   "metadata": {
    "collapsed": true
   },
   "outputs": [],
   "source": [
    "weaknesses = {\n",
    "    'Normal': [1, 1, 1, 1, 1, 1, 2, 1, 1, 1, 1, 1, 1, 0, 1, 1, 1, 1],\n",
    "    'Fire': [1, 0.5, 2, 1, 0.5, 0.5, 1, 1, 2, 1, 1, 0.5, 2, 1, 1, 1, 0.5, 0.5],\n",
    "    'Water': [1, 0.5, 0.5, 2, 2, 0.5, 1, 1, 1, 1, 1, 1, 1, 1, 1, 1, 0.5, 1],\n",
    "    'Electric': [1, 1, 1, 0.5, 1, 1, 1, 1, 2, 0.5, 1, 1, 1, 1, 1, 1, 0.5, 1],\n",
    "    'Grass': [1, 2, 0.5, 0.5, 0.5, 2, 1, 2, 0.5, 2, 1, 2, 1, 1, 1, 1, 1, 1],\n",
    "    'Ice': [1, 2, 1, 1, 1, 0.5, 2, 1, 1, 1, 1, 1, 2, 1, 1, 1, 2, 1],\n",
    "    'Fighting': [1, 1, 1, 1, 1, 1, 1, 1, 1, 2, 2, 0.5, 0.5, 1, 1, 0.5, 1, 2],\n",
    "    'Poison': [1, 1, 1, 1, 0.5, 1, 0.5, 0.5, 2, 1, 2, 0.5, 1, 1, 1, 1, 1, 0.5],\n",
    "    'Ground': [1, 1, 2, 0, 2, 2, 1, 0.5, 1, 1, 1, 1, 0.5, 1, 1, 1, 1, 1],\n",
    "    'Flying': [1, 1, 1, 2, 0.5, 2, 0.5, 1, 0, 1, 1, 0.5, 2, 1, 1, 1, 1, 1],\n",
    "    'Psychic': [1, 1, 1, 1, 1, 1, 0.5, 1, 1, 1, 0.5, 2, 1, 2, 1, 2, 1, 1],\n",
    "    'Bug': [1, 2, 1, 1, 0.5, 1, 0.5, 1, 0.5, 2, 1, 1, 2, 1, 1, 1, 1, 1],\n",
    "    'Rock': [0.5, 0.5, 2, 1, 2, 1, 2, 0.5, 2, 0.5, 1, 1, 1, 1, 1, 1, 2, 1],\n",
    "    'Ghost': [0, 1, 1, 1, 1, 1, 0, 0.5, 1, 1, 1, 0.5, 1, 2, 1, 2, 1, 1],\n",
    "    'Dragon': [1, 0.5, 0.5, 0.5, 0.5, 2, 1, 1, 1, 1, 1, 1, 1, 1, 2, 1, 1, 2],\n",
    "    'Dark': [1, 1, 1, 1, 1, 1, 2, 1, 1, 1, 0, 2, 1, 0.5, 1, 0.5, 1, 2],\n",
    "    'Steel': [0.5, 2, 1, 1, 0.5, 0.5, 2, 0, 2, 0.5, 0.5, 0.5, 0.5, 1, 0.5, 1, 0.5, 0.5],\n",
    "    'Fairy': [1, 1, 1, 1, 1, 1, 0.5, 2, 1, 1, 1, 0.5, 1, 1, 0, 0.5, 2, 1]\n",
    "}"
   ]
  },
  {
   "cell_type": "code",
   "execution_count": 23,
   "metadata": {
    "collapsed": true
   },
   "outputs": [],
   "source": [
    "w_arrays = []\n",
    "r_arrays = []\n",
    "for pkmn in range(len(master)):\n",
    "    if str(master.loc[pkmn]['Type2']) != 'nan':\n",
    "        w_array_1 = np.array(weaknesses[master.loc[pkmn]['Type1']])\n",
    "        w_array_2 = np.array(weaknesses[master.loc[pkmn]['Type2']])\n",
    "        w_array = w_array_1 * w_array_2\n",
    "    else:\n",
    "        w_array = np.array(weaknesses[master.loc[pkmn]['Type1']])\n",
    "    r_array = [1 if r <= 0.5 else 0 for r in w_array]\n",
    "    w_arrays.append(w_array)\n",
    "    r_arrays.append(r_array)\n",
    "master['Weaknesses'] = w_arrays\n",
    "master['Resistances'] = r_arrays"
   ]
  },
  {
   "cell_type": "code",
   "execution_count": 24,
   "metadata": {
    "collapsed": true
   },
   "outputs": [],
   "source": [
    "starters_n = ['Bulbasaur', 'Ivysaur', 'Venusaur', 'Charmander', 'Charmeleon', 'Charizard', 'Squirtle', 'Wartortle', 'Blastoise', 'Chikorita', 'Bayleef', 'Meganium', 'Cyndaquil', 'Quilava', 'Typhlosion', 'Totodile', 'Croconaw', 'Feraligatr', 'Treecko', 'Grovyle', 'Sceptile', 'Torchic', 'Combusken', 'Blaziken', 'Mudkip', 'Marshtomp', 'Swampert', 'Turtwig', 'Grotle', 'Torterra', 'Chimchar', 'Monferno', 'Infernape', 'Piplup', 'Prinplup', 'Empoleon', 'Snivy', 'Servine', 'Serperior', 'Tepig', 'Pignite', 'Emboar', 'Oshawott', 'Dewott', 'Samurott', 'Chespin', 'Quilladin', 'Chesnaught', 'Fennekin', 'Braixen', 'Delphox', 'Froakie', 'Frogadier', 'Greninja', 'Rowlet', 'Dartrix', 'Decidueye', 'Litten', 'Torracat', 'Incineroar', 'Popplio', 'Brionne', 'Primarina']\n",
    "pseudolegendaries_n = ['Dratini', 'Dragonair', 'Dragonite', 'Larvitar', 'Pupitar', 'Tyranitar', 'Bagon', 'Shelgon', 'Salamence', 'Beldum', 'Metang', 'Metagross', 'Gible', 'Gabite', 'Garchomp', 'Deino', 'Zweilous', 'Hydreigon', 'Goomy', 'Sliggoo', 'Goodra', 'Jangmo-o', 'Hakamo-o', 'Kommo-o']\n",
    "legendaries_n = ['Articuno', 'Zapdos', 'Moltres', 'Mewtwo', 'Mew', 'Raikou', 'Entei', 'Suicune', 'Lugia', 'Celebi', 'Regirock', 'Regice', 'Registeel', 'Latias', 'Latios', 'Kyogre', 'Groudon', 'Rayquaza', 'Jirachi', 'Deoxys', 'Uxie', 'Mesprit', 'Azelf', 'Dialga', 'Palkia', 'Giratina', 'Cresselia', 'Darkrai', 'Manaphy', 'Heatran', 'Regigigas', 'Arceus', 'Victini', 'Cobalion', 'Terrakion', 'Virizion', 'Keldeo', 'Tornadus', 'Thundurus', 'Landorus', 'Reshiram', 'Zekrom', 'Kyurem', 'Genesect', 'Xerneas', 'Yveltal', 'Zygarde', 'Diancie', 'Volcanion', 'Solgaleo', 'Lunala', 'Marshadow', 'Zeraora', 'Cosmog', 'Cosmoem', 'Necrozma', 'Silvally', 'Magearna']\n",
    "ultrabeasts_n = ['Nihilego', 'Buzzwole', 'Pheromosa', 'Xurkitree', 'Celesteela', 'Kartana', 'Guzzlord', 'Poipole', 'Naganadel', 'Stakataka', 'Blacephalon']"
   ]
  },
  {
   "cell_type": "code",
   "execution_count": 25,
   "metadata": {
    "collapsed": true
   },
   "outputs": [],
   "source": [
    "starters = [master[master['Name']==name].index[0] for name in starters_n]\n",
    "pseudolegendaries = [master[master['Name']==name].index[0] for name in pseudolegendaries_n]\n",
    "legendaries = [master[master['Name']==name].index[0] for name in legendaries_n]\n",
    "ultrabeasts = [master[master['Name']==name].index[0] for name in ultrabeasts_n]"
   ]
  },
  {
   "cell_type": "code",
   "execution_count": 26,
   "metadata": {
    "collapsed": true
   },
   "outputs": [],
   "source": [
    "master['TotalStats'] = master['Attack'] + master['Special Attack'] + master['Defence'] + master['Special Defence'] + master['Speed'] + master['HP']\n",
    "master['TotalAttack'] = master['Attack'] + master['Special Attack']\n",
    "master['TotalDefence'] = master['Defence'] + master['Special Defence'] + master['HP']"
   ]
  },
  {
   "cell_type": "markdown",
   "metadata": {},
   "source": [
    "# The linear program"
   ]
  },
  {
   "cell_type": "code",
   "execution_count": 27,
   "metadata": {
    "collapsed": true
   },
   "outputs": [],
   "source": [
    "def solve_linear_program(objective_stat='TotalStats', max_pkmn_num=792, num_starters=1, num_pseudos=0, num_legendaries=0, num_ultrabeasts=0):\n",
    "    # Solve the first linear program (choose pokemon team)\n",
    "    prob1 = pulp.LpProblem(\"PerfectPokemonTeam\", pulp.LpMaximize)\n",
    "    x = pulp.LpVariable.dicts(\"x\", range(max_pkmn_num), cat=pulp.LpBinary)\n",
    "    \n",
    "    objective_function1 = sum(master.loc[pkmn, objective_stat] * x[pkmn] for pkmn in range(max_pkmn_num))\n",
    "    prob1 += objective_function1\n",
    "    \n",
    "    prob1 += sum([x[pkmn] for pkmn in range(max_pkmn_num)]) == 6\n",
    "    prob1 += sum([x[pkmn] for pkmn in [i for i in starters if i < max_pkmn_num]]) <= num_starters\n",
    "    prob1 += sum([x[pkmn] for pkmn in [i for i in pseudolegendaries if i < max_pkmn_num]]) == num_pseudos\n",
    "    prob1 += sum([x[pkmn] for pkmn in [i for i in legendaries if i < max_pkmn_num]]) == num_legendaries\n",
    "    prob1 += sum([x[pkmn] for pkmn in [i for i in ultrabeasts if i < max_pkmn_num]]) == num_ultrabeasts\n",
    "        \n",
    "    for tp in range(18):\n",
    "        prob1 += sum([master.loc[pkmn, 'Resistances'][tp] * x[pkmn] for pkmn in range(max_pkmn_num)]) >= 1\n",
    "        \n",
    "    prob1.solve()\n",
    "    team = [i for i in range(max_pkmn_num) if x[i].value() == 1]\n",
    "    \n",
    "    \n",
    "    # Solve the second linear program (choose the moves)\n",
    "    prob2 = pulp.LpProblem(\"PerfectPokemonTeam\", pulp.LpMaximize)\n",
    "    y = pulp.LpVariable.dicts(\"y\", ((i, j) for i in team for j in range(len(damaging_moves))), cat=pulp.LpBinary)\n",
    "\n",
    "    objective_function2 = sum(damaging_moves.loc[mv, 'Expected Damage'] * y[pkmn, mv] for mv in range(len(damaging_moves)) for pkmn in team) + sum(0.5 * int(damaging_moves.loc[mv, 'Type'] in set(master.loc[pkmn, ['Type1', 'Type2']])) * damaging_moves.loc[mv, 'Expected Damage'] * y[pkmn, mv] for mv in range(len(damaging_moves)) for pkmn in team)\n",
    "    prob2 += objective_function2\n",
    "    \n",
    "    for pkmn in team:\n",
    "        prob2 += sum([y[pkmn, mv] for mv in range(len(damaging_moves))]) == 4\n",
    "        prob2 += y[pkmn, 102] + y[pkmn, 294] <= 0  # Explude self-destruct and explosion\n",
    "    \n",
    "    for pkmn in team:\n",
    "        for mv in range(len(damaging_moves)):\n",
    "            prob2 += y[pkmn, mv] <= moves_matrix[pkmn][mv]\n",
    "    \n",
    "    for tp in types_order:\n",
    "        prob2 += sum([y[pkmn, mv]*damaging_moves.loc[mv, tp] for mv in range(len(damaging_moves)) for pkmn in team]) >= 1\n",
    "    \n",
    "    prob2.solve()\n",
    "\n",
    "    moves = [(i, [m for m in range(len(damaging_moves)) if y[i, m].value() == 1]) for i in team]\n",
    "    team_moves = {master.loc[moves[i][0], 'Name']: [damaging_moves.loc[moves[i][1][j], 'Move name'] for j in range(4)] for i in range(6)}\n",
    "    return team_moves"
   ]
  },
  {
   "cell_type": "code",
   "execution_count": 28,
   "metadata": {},
   "outputs": [
    {
     "data": {
      "text/plain": [
       "{'Arcanine': ['BurnUp', 'Crunch', 'FlareBlitz', 'Overheat'],\n",
       " 'Archeops': ['Earthquake', 'HeadSmash', 'ShadowClaw', 'SkyAttack'],\n",
       " 'Florges': ['GigaImpact', 'Moonblast', 'Psychic', 'SolarBeam'],\n",
       " 'Haxorus': ['DracoMeteor', 'Outrage', 'PoisonJab', 'Surf'],\n",
       " 'Magnezone': ['IronHead', 'SignalBeam', 'Thunderbolt', 'WildCharge'],\n",
       " 'Slaking': ['FocusPunch', 'GigaImpact', 'HyperBeam', 'IceBeam']}"
      ]
     },
     "execution_count": 28,
     "metadata": {},
     "output_type": "execute_result"
    }
   ],
   "source": [
    "solve_linear_program()"
   ]
  },
  {
   "cell_type": "code",
   "execution_count": null,
   "metadata": {
    "collapsed": true
   },
   "outputs": [],
   "source": []
  }
 ],
 "metadata": {
  "kernelspec": {
   "display_name": "Python 3",
   "language": "python",
   "name": "python3"
  },
  "language_info": {
   "codemirror_mode": {
    "name": "ipython",
    "version": 3
   },
   "file_extension": ".py",
   "mimetype": "text/x-python",
   "name": "python",
   "nbconvert_exporter": "python",
   "pygments_lexer": "ipython3",
   "version": "3.5.4"
  }
 },
 "nbformat": 4,
 "nbformat_minor": 2
}
